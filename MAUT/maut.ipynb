{
 "cells": [
  {
   "cell_type": "code",
   "execution_count": 1,
   "metadata": {},
   "outputs": [],
   "source": [
    "import pandas as pd\n",
    "import numpy as np"
   ]
  },
  {
   "cell_type": "code",
   "execution_count": 17,
   "metadata": {},
   "outputs": [],
   "source": [
    "def charge_df(path):\n",
    "    df = pd.read_csv(path)\n",
    "    df = df.drop([\"Recomender\", \"RMSE\", \"Precision@10\", \"Recall@10\"], axis=1)\n",
    "    \n",
    "    for col in df.columns[1:]:\n",
    "        df[col] = df[col].apply(lambda row: float(row.replace(\",\", \".\")))\n",
    "        \n",
    "    return df"
   ]
  },
  {
   "cell_type": "code",
   "execution_count": 18,
   "metadata": {},
   "outputs": [],
   "source": [
    "def maut(df, \n",
    "        algorithms, \n",
    "        metrics, \n",
    "        error_metrics=['MSE', 'MAE']):\n",
    "    \n",
    "    utility_scores = {}\n",
    "    \n",
    "    for metric in metrics:\n",
    "        scores = df[metric].values\n",
    "        \n",
    "        if metric in error_metrics: \n",
    "            score_min = max(scores)\n",
    "            score_max = min(scores)\n",
    "        else:\n",
    "            score_min = min(scores)\n",
    "            score_max = max(scores)\n",
    "            \n",
    "        for algorithm in algorithms:\n",
    "            alg_score = df.loc[df['Algoritmo'].str.contains(algorithm)][metric].values[0]\n",
    "            utility_score = (alg_score - score_min) / (score_max - score_min)\n",
    "            \n",
    "            if algorithm in utility_scores.keys():\n",
    "                utility_scores[algorithm].append(utility_score)\n",
    "            else:\n",
    "                utility_scores[algorithm] = [utility_score]\n",
    "    \n",
    "    \n",
    "    ranking = {}\n",
    "    for alg, scores in utility_scores.items():\n",
    "        \n",
    "        efetivity = scores[:4]\n",
    "        diversity = scores[4:]\n",
    "        \n",
    "        ranking[alg] = [round(np.array(efetivity).sum(), 2), round(np.array(diversity).sum(), 2)]\n",
    "        \n",
    "    return np.array(list(ranking.values()))"
   ]
  },
  {
   "cell_type": "code",
   "execution_count": 20,
   "metadata": {},
   "outputs": [],
   "source": [
    "tampa = charge_df(\"tampa.csv\")\n",
    "tampa_values = maut(tampa, tampa['Algoritmo'].values, tampa.columns[1:])"
   ]
  },
  {
   "cell_type": "code",
   "execution_count": 21,
   "metadata": {},
   "outputs": [],
   "source": [
    "phila = charge_df(\"phila.csv\")\n",
    "phila_values = maut(phila, phila['Algoritmo'].values, phila.columns[1:])"
   ]
  },
  {
   "cell_type": "code",
   "execution_count": 22,
   "metadata": {},
   "outputs": [],
   "source": [
    "video = charge_df(\"video.csv\")\n",
    "video_values = maut(video, video['Algoritmo'].values, video.columns[1:])"
   ]
  },
  {
   "cell_type": "code",
   "execution_count": 23,
   "metadata": {},
   "outputs": [
    {
     "data": {
      "text/plain": [
       "array([[4.75, 4.05],\n",
       "       [8.11, 1.93],\n",
       "       [2.5 , 3.58],\n",
       "       [9.77, 1.79],\n",
       "       [6.73, 1.28],\n",
       "       [3.93, 3.44],\n",
       "       [3.42, 4.05],\n",
       "       [9.71, 1.51],\n",
       "       [8.33, 1.42],\n",
       "       [5.44, 2.41]])"
      ]
     },
     "execution_count": 23,
     "metadata": {},
     "output_type": "execute_result"
    }
   ],
   "source": [
    "maut_rank = tampa_values + phila_values + video_values\n",
    "maut_rank"
   ]
  },
  {
   "cell_type": "code",
   "execution_count": 26,
   "metadata": {},
   "outputs": [
    {
     "data": {
      "text/plain": [
       "[('DeepCoNN', 4.75),\n",
       " ('D ATTN', 8.11),\n",
       " ('MPCN', 2.5),\n",
       " ('NARRE', 9.77),\n",
       " ('DAML', 6.73),\n",
       " ('CARL', 3.93),\n",
       " ('CARP', 3.42),\n",
       " ('ANR', 9.71),\n",
       " ('HRDR', 8.33),\n",
       " ('RGNN', 5.44)]"
      ]
     },
     "execution_count": 26,
     "metadata": {},
     "output_type": "execute_result"
    }
   ],
   "source": [
    "efetivity_rank = [(algorithm, round(score, 2)) for algorithm, score in zip(video['Algoritmo'], maut_rank[:, 0])]\n",
    "efetivity_rank"
   ]
  },
  {
   "cell_type": "code",
   "execution_count": 30,
   "metadata": {},
   "outputs": [
    {
     "data": {
      "text/html": [
       "<div>\n",
       "<style scoped>\n",
       "    .dataframe tbody tr th:only-of-type {\n",
       "        vertical-align: middle;\n",
       "    }\n",
       "\n",
       "    .dataframe tbody tr th {\n",
       "        vertical-align: top;\n",
       "    }\n",
       "\n",
       "    .dataframe thead th {\n",
       "        text-align: right;\n",
       "    }\n",
       "</style>\n",
       "<table border=\"1\" class=\"dataframe\">\n",
       "  <thead>\n",
       "    <tr style=\"text-align: right;\">\n",
       "      <th></th>\n",
       "      <th>Algoritmo</th>\n",
       "      <th>Score</th>\n",
       "    </tr>\n",
       "  </thead>\n",
       "  <tbody>\n",
       "    <tr>\n",
       "      <th>3</th>\n",
       "      <td>NARRE</td>\n",
       "      <td>9.77</td>\n",
       "    </tr>\n",
       "    <tr>\n",
       "      <th>7</th>\n",
       "      <td>ANR</td>\n",
       "      <td>9.71</td>\n",
       "    </tr>\n",
       "    <tr>\n",
       "      <th>8</th>\n",
       "      <td>HRDR</td>\n",
       "      <td>8.33</td>\n",
       "    </tr>\n",
       "    <tr>\n",
       "      <th>1</th>\n",
       "      <td>D ATTN</td>\n",
       "      <td>8.11</td>\n",
       "    </tr>\n",
       "    <tr>\n",
       "      <th>4</th>\n",
       "      <td>DAML</td>\n",
       "      <td>6.73</td>\n",
       "    </tr>\n",
       "    <tr>\n",
       "      <th>9</th>\n",
       "      <td>RGNN</td>\n",
       "      <td>5.44</td>\n",
       "    </tr>\n",
       "    <tr>\n",
       "      <th>0</th>\n",
       "      <td>DeepCoNN</td>\n",
       "      <td>4.75</td>\n",
       "    </tr>\n",
       "    <tr>\n",
       "      <th>5</th>\n",
       "      <td>CARL</td>\n",
       "      <td>3.93</td>\n",
       "    </tr>\n",
       "    <tr>\n",
       "      <th>6</th>\n",
       "      <td>CARP</td>\n",
       "      <td>3.42</td>\n",
       "    </tr>\n",
       "    <tr>\n",
       "      <th>2</th>\n",
       "      <td>MPCN</td>\n",
       "      <td>2.50</td>\n",
       "    </tr>\n",
       "  </tbody>\n",
       "</table>\n",
       "</div>"
      ],
      "text/plain": [
       "  Algoritmo  Score\n",
       "3     NARRE   9.77\n",
       "7       ANR   9.71\n",
       "8      HRDR   8.33\n",
       "1    D ATTN   8.11\n",
       "4      DAML   6.73\n",
       "9      RGNN   5.44\n",
       "0  DeepCoNN   4.75\n",
       "5      CARL   3.93\n",
       "6      CARP   3.42\n",
       "2      MPCN   2.50"
      ]
     },
     "execution_count": 30,
     "metadata": {},
     "output_type": "execute_result"
    }
   ],
   "source": [
    "efetivity = pd.DataFrame(efetivity_rank, columns=['Algoritmo', 'Score'])\n",
    "efetivity.sort_values(by=\"Score\", ascending=False)"
   ]
  },
  {
   "cell_type": "code",
   "execution_count": 31,
   "metadata": {},
   "outputs": [
    {
     "data": {
      "text/html": [
       "<div>\n",
       "<style scoped>\n",
       "    .dataframe tbody tr th:only-of-type {\n",
       "        vertical-align: middle;\n",
       "    }\n",
       "\n",
       "    .dataframe tbody tr th {\n",
       "        vertical-align: top;\n",
       "    }\n",
       "\n",
       "    .dataframe thead th {\n",
       "        text-align: right;\n",
       "    }\n",
       "</style>\n",
       "<table border=\"1\" class=\"dataframe\">\n",
       "  <thead>\n",
       "    <tr style=\"text-align: right;\">\n",
       "      <th></th>\n",
       "      <th>Algoritmo</th>\n",
       "      <th>Score</th>\n",
       "    </tr>\n",
       "  </thead>\n",
       "  <tbody>\n",
       "    <tr>\n",
       "      <th>0</th>\n",
       "      <td>DeepCoNN</td>\n",
       "      <td>4.05</td>\n",
       "    </tr>\n",
       "    <tr>\n",
       "      <th>6</th>\n",
       "      <td>CARP</td>\n",
       "      <td>4.05</td>\n",
       "    </tr>\n",
       "    <tr>\n",
       "      <th>2</th>\n",
       "      <td>MPCN</td>\n",
       "      <td>3.58</td>\n",
       "    </tr>\n",
       "    <tr>\n",
       "      <th>5</th>\n",
       "      <td>CARL</td>\n",
       "      <td>3.44</td>\n",
       "    </tr>\n",
       "    <tr>\n",
       "      <th>9</th>\n",
       "      <td>RGNN</td>\n",
       "      <td>2.41</td>\n",
       "    </tr>\n",
       "    <tr>\n",
       "      <th>1</th>\n",
       "      <td>D ATTN</td>\n",
       "      <td>1.93</td>\n",
       "    </tr>\n",
       "    <tr>\n",
       "      <th>3</th>\n",
       "      <td>NARRE</td>\n",
       "      <td>1.79</td>\n",
       "    </tr>\n",
       "    <tr>\n",
       "      <th>7</th>\n",
       "      <td>ANR</td>\n",
       "      <td>1.51</td>\n",
       "    </tr>\n",
       "    <tr>\n",
       "      <th>8</th>\n",
       "      <td>HRDR</td>\n",
       "      <td>1.42</td>\n",
       "    </tr>\n",
       "    <tr>\n",
       "      <th>4</th>\n",
       "      <td>DAML</td>\n",
       "      <td>1.28</td>\n",
       "    </tr>\n",
       "  </tbody>\n",
       "</table>\n",
       "</div>"
      ],
      "text/plain": [
       "  Algoritmo  Score\n",
       "0  DeepCoNN   4.05\n",
       "6      CARP   4.05\n",
       "2      MPCN   3.58\n",
       "5      CARL   3.44\n",
       "9      RGNN   2.41\n",
       "1    D ATTN   1.93\n",
       "3     NARRE   1.79\n",
       "7       ANR   1.51\n",
       "8      HRDR   1.42\n",
       "4      DAML   1.28"
      ]
     },
     "execution_count": 31,
     "metadata": {},
     "output_type": "execute_result"
    }
   ],
   "source": [
    "diversity_rank = [(algorithm, round(score, 2)) for algorithm, score in zip(video['Algoritmo'], maut_rank[:, 1])]\n",
    "diversity = pd.DataFrame(diversity_rank, columns=['Algoritmo', 'Score'])\n",
    "diversity.sort_values(by=\"Score\", ascending=False)"
   ]
  }
 ],
 "metadata": {
  "kernelspec": {
   "display_name": "Python 3",
   "language": "python",
   "name": "python3"
  },
  "language_info": {
   "codemirror_mode": {
    "name": "ipython",
    "version": 3
   },
   "file_extension": ".py",
   "mimetype": "text/x-python",
   "name": "python",
   "nbconvert_exporter": "python",
   "pygments_lexer": "ipython3",
   "version": "3.10.6"
  },
  "orig_nbformat": 4
 },
 "nbformat": 4,
 "nbformat_minor": 2
}
